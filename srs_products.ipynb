{
 "cells": [
  {
   "cell_type": "code",
   "execution_count": 5,
   "metadata": {},
   "outputs": [
    {
     "name": "stdout",
     "output_type": "stream",
     "text": [
      "916939\n"
     ]
    }
   ],
   "source": [
    "import pandas as pd\n",
    "df = pd.read_csv('eCommerce.csv')\n",
    "print(len(df))"
   ]
  },
  {
   "cell_type": "code",
   "execution_count": 7,
   "metadata": {},
   "outputs": [
    {
     "name": "stdout",
     "output_type": "stream",
     "text": [
      "519\n"
     ]
    }
   ],
   "source": [
    "products_per_user = df.groupby('user_id')['product_id'].count()\n",
    "\n",
    "# Encuentra la cantidad máxima de productos que ha comprado un usuario\n",
    "max_products_purchased = products_per_user.max()\n",
    "print(max_products_purchased)"
   ]
  },
  {
   "cell_type": "code",
   "execution_count": 9,
   "metadata": {},
   "outputs": [],
   "source": [
    "products = df[['product_id', 'brand', 'category_code','price']].drop_duplicates(subset='product_id')"
   ]
  },
  {
   "cell_type": "code",
   "execution_count": null,
   "metadata": {},
   "outputs": [],
   "source": [
    "mean_price = df['price'].mean()\n",
    "std_price = df['price'].std()\n",
    "products['price']=(products['price']-mean_price)/std_price"
   ]
  },
  {
   "cell_type": "code",
   "execution_count": 10,
   "metadata": {},
   "outputs": [
    {
     "name": "stdout",
     "output_type": "stream",
     "text": [
      "52054\n"
     ]
    }
   ],
   "source": [
    "n_products = len(products)\n",
    "print(n_products)"
   ]
  },
  {
   "cell_type": "code",
   "execution_count": null,
   "metadata": {},
   "outputs": [],
   "source": [
    "map_id_user = {i:user for i, user in enumerate(df['user_id'].unique())}\n",
    "n_users = len(map_id_user)"
   ]
  },
  {
   "cell_type": "code",
   "execution_count": null,
   "metadata": {},
   "outputs": [],
   "source": [
    "map_id_prod = {i+1: prod for i, prod in enumerate(products['product_id'])}\n",
    "map_prod_id = {prod: i+1 for i, prod in enumerate(products['product_id'])}"
   ]
  },
  {
   "cell_type": "code",
   "execution_count": null,
   "metadata": {},
   "outputs": [],
   "source": [
    "unique_categories = products['category_code'].unique()\n",
    "n_categories = len(unique_categories)\n",
    "map_id_cat = {i+1: brand for i, brand in enumerate(unique_categories)}\n",
    "map_cat_id = {brand: i+1 for i, brand in enumerate(unique_categories)}"
   ]
  },
  {
   "cell_type": "code",
   "execution_count": 13,
   "metadata": {},
   "outputs": [],
   "source": [
    "unique_brands = products['brand'].unique()\n",
    "n_brands = len(unique_brands)\n",
    "map_id_brand = {i+1: brand for i, brand in enumerate(unique_brands)}\n",
    "map_brand_id = {brand: i+1 for i, brand in enumerate(unique_brands)}"
   ]
  },
  {
   "cell_type": "code",
   "execution_count": null,
   "metadata": {},
   "outputs": [],
   "source": [
    "import numpy as np"
   ]
  },
  {
   "cell_type": "markdown",
   "metadata": {},
   "source": [
    "Productos Poco Frecuentes: Si algunos productos se compran muy raramente, es posible que el generador no los capture con frecuencia, lo que podría afectar la capacidad del modelo para hacer recomendaciones precisas en estos casos. Considera técnicas de sobremuestreo o asignación de pesos para manejar este problema."
   ]
  },
  {
   "cell_type": "code",
   "execution_count": null,
   "metadata": {},
   "outputs": [],
   "source": [
    "def generator(min_index, max_index, batch_size=64):\n",
    "    \"\"\"\n",
    "    Generator que produce lotes de secuencias de compras, con sobremuestreo para productos poco frecuentes.\n",
    "\n",
    "    Args:\n",
    "    - min_index: Índice mínimo de usuarios.\n",
    "    - max_index: Índice máximo de usuarios.\n",
    "    - batch_size: Número de secuencias (ejemplos) en cada lote.\n",
    "\n",
    "    Returns:\n",
    "    - Un lote de datos X (secuencias de características de productos) y etiquetas y (próximo producto).\n",
    "    \"\"\"\n",
    "    products_count = df.groupby('product_id')['user_id'].count()\n",
    "    max_frequency = products_count.max()\n",
    "    product_weights = {pid: max_frequency / freq for pid, freq in products_count.items()}\n",
    "\n",
    "    while True:\n",
    "        seen_users = set()\n",
    "        count = 0\n",
    "        samples = [np.zeros((batch_size, max_products_purchased - 1)) for _ in range(4)]  # 4 características\n",
    "        targets = np.zeros((batch_size, n_products))\n",
    "        while count < batch_size:\n",
    "            id = np.random.randint(min_index, max_index)\n",
    "            user_id = map_id_user[id]\n",
    "            if user_id in seen_users:\n",
    "                continue\n",
    "            seen_users.add(user_id)\n",
    "\n",
    "            user_data = df[df['user_id'] == user_id]\n",
    "            user_purchases = user_data['product_id'].tolist()\n",
    "            if len(user_purchases) < 2:\n",
    "                continue\n",
    "\n",
    "            next_purchase = np.random.choice(range(1, len(user_purchases)))\n",
    "            purchases = np.array(user_purchases[:next_purchase])\n",
    "\n",
    "            products_features = products['product_id'].isin(purchases)\n",
    "\n",
    "            x_id = pd.Series(purchases).map(map_prod_id).values\n",
    "            x_brand = np.array(products.loc[products_features, 'brand'].map(map_brand_id))\n",
    "            x_cat = np.array(products.loc[products_features, 'category_code'].map(map_cat_id))\n",
    "            x_price = np.array(products.loc[products_features, 'price'])\n",
    "\n",
    "            if next_purchase + 1 < max_products_purchased:\n",
    "                x_id = np.pad(x_id, (0, max_products_purchased - len(x_id) - 1), 'constant')\n",
    "                x_brand = np.pad(x_brand, (0, max_products_purchased - len(x_brand) - 1), 'constant')\n",
    "                x_cat = np.pad(x_cat, (0, max_products_purchased - len(x_cat) - 1), 'constant')\n",
    "                x_price = np.pad(x_price, (0, max_products_purchased - len(x_price) - 1), 'constant')\n",
    "\n",
    "            samples[0][count] = x_id\n",
    "            samples[1][count] = x_brand\n",
    "            samples[2][count] = x_cat\n",
    "            samples[3][count] = x_price\n",
    "\n",
    "            y = np.zeros((n_products,))\n",
    "            y[map_prod_id[user_purchases[next_purchase]] - 1] = 1\n",
    "            targets[count] = y\n",
    "\n",
    "            count += 1\n",
    "\n",
    "        yield samples, targets"
   ]
  },
  {
   "cell_type": "code",
   "execution_count": null,
   "metadata": {},
   "outputs": [],
   "source": [
    "def predict_next_product(user_purchases, model):\n",
    "    \"\"\"\n",
    "    Predice el próximo producto basado en las características de los productos comprados por el usuario.\n",
    "    \n",
    "    Args:\n",
    "    - user_data: Datos del usuario con características de los productos comprados en formato de secuencia.\n",
    "    - model: El modelo entrenado para hacer la predicción.\n",
    "    - product_features: Diccionario que mapea product_id a características del producto.\n",
    "    \"\"\"\n",
    "\n",
    "    products_features = products['product_id'].isin(user_purchases)\n",
    "\n",
    "    # x_id = user_purchases.map(map_prod_id)\n",
    "    x_id = pd.Series(user_purchases).map(map_prod_id).values\n",
    "    x_brand = np.array(products.loc[products_features,'brand'].map(map_brand_id))\n",
    "    x_cat = np.array(products.loc[products_features,'category_code'].map(map_cat_id))\n",
    "    x_price = np.array(products.loc[products_features,'price'])\n",
    "\n",
    "    return model.predict([x_id,x_brand,x_cat,x_price])\n",
    "\n",
    "\n"
   ]
  },
  {
   "cell_type": "code",
   "execution_count": 11,
   "metadata": {},
   "outputs": [],
   "source": [
    "from keras.layers import Input, Embedding, Concatenate, Dense, GRU,LSTM, Dropout, Reshape\n",
    "from keras.models import Model"
   ]
  },
  {
   "cell_type": "code",
   "execution_count": 12,
   "metadata": {},
   "outputs": [
    {
     "ename": "NameError",
     "evalue": "name 'n_brands' is not defined",
     "output_type": "error",
     "traceback": [
      "\u001b[1;31m---------------------------------------------------------------------------\u001b[0m",
      "\u001b[1;31mNameError\u001b[0m                                 Traceback (most recent call last)",
      "\u001b[1;32md:\\Study\\3ro\\2doSemestre\\SRI\\project\\projectnew.ipynb Cell 20\u001b[0m line \u001b[0;36m8\n\u001b[0;32m      <a href='vscode-notebook-cell:/d%3A/Study/3ro/2doSemestre/SRI/project/projectnew.ipynb#X21sZmlsZQ%3D%3D?line=5'>6</a>\u001b[0m \u001b[39m# Entrada para otra característica (ej. categoría)\u001b[39;00m\n\u001b[0;32m      <a href='vscode-notebook-cell:/d%3A/Study/3ro/2doSemestre/SRI/project/projectnew.ipynb#X21sZmlsZQ%3D%3D?line=6'>7</a>\u001b[0m input_brand \u001b[39m=\u001b[39m Input(shape\u001b[39m=\u001b[39m(max_products_purchased\u001b[39m-\u001b[39m\u001b[39m1\u001b[39m,))\n\u001b[1;32m----> <a href='vscode-notebook-cell:/d%3A/Study/3ro/2doSemestre/SRI/project/projectnew.ipynb#X21sZmlsZQ%3D%3D?line=7'>8</a>\u001b[0m embedding_brand \u001b[39m=\u001b[39m Embedding(input_dim\u001b[39m=\u001b[39mn_brands\u001b[39m+\u001b[39m\u001b[39m1\u001b[39m, output_dim\u001b[39m=\u001b[39membedding_dim)(input_brand)\n\u001b[0;32m     <a href='vscode-notebook-cell:/d%3A/Study/3ro/2doSemestre/SRI/project/projectnew.ipynb#X21sZmlsZQ%3D%3D?line=9'>10</a>\u001b[0m \u001b[39m# Entrada para otra característica (ej. categoría)\u001b[39;00m\n\u001b[0;32m     <a href='vscode-notebook-cell:/d%3A/Study/3ro/2doSemestre/SRI/project/projectnew.ipynb#X21sZmlsZQ%3D%3D?line=10'>11</a>\u001b[0m input_cat \u001b[39m=\u001b[39m Input(shape\u001b[39m=\u001b[39m(max_products_purchased\u001b[39m-\u001b[39m\u001b[39m1\u001b[39m,))\n",
      "\u001b[1;31mNameError\u001b[0m: name 'n_brands' is not defined"
     ]
    }
   ],
   "source": [
    "embedding_dim = 8\n",
    "# Entrada para el ID\n",
    "input_id = Input(shape=(max_products_purchased-1,))\n",
    "embedding_id = Embedding(input_dim=n_products+1, output_dim=embedding_dim)(input_id)\n",
    "\n",
    "# Entrada para otra característica (ej. categoría)\n",
    "input_brand = Input(shape=(max_products_purchased-1,))\n",
    "embedding_brand = Embedding(input_dim=n_brands+1, output_dim=embedding_dim)(input_brand)\n",
    "\n",
    "# Entrada para otra característica (ej. categoría)\n",
    "input_cat = Input(shape=(max_products_purchased-1,))\n",
    "embedding_cat = Embedding(input_dim=n_categories+1, output_dim=embedding_dim)(input_cat)\n",
    "\n",
    "input_price = Input(shape=(max_products_purchased-1,))\n",
    "\n",
    "# Concatenar los embeddings\n",
    "# purchases = Concatenate()([embedding_id,embedding_brand, embedding_cat,input_price])\n",
    "purchases = Concatenate()([embedding_id, embedding_brand, embedding_cat, Reshape((max_products_purchased-1, 1))(input_price)])\n",
    "\n",
    "gru_output = GRU(units=16)(purchases)\n",
    "dropout_output = Dropout(0.3)(gru_output)\n",
    "output = Dense(units=1, activation='sigmoid')(dropout_output)\n",
    "\n",
    "# Crear el modelo\n",
    "model = Model(inputs=[input_id, input_brand, input_cat, input_price], outputs=output)\n",
    "model.compile(optimizer='adam', loss='binary_crossentropy',metrics=['acc'])\n"
   ]
  },
  {
   "cell_type": "code",
   "execution_count": null,
   "metadata": {},
   "outputs": [],
   "source": [
    "batch_size = 32\n",
    "\n",
    "train_gen = generator(min_index=0,max_index=int(n_users*0.6))\n",
    "val_gen = generator(min_index=int(n_users*0.6),max_index=int(n_users*0.9))\n",
    "test_gen = generator(min_index=int(n_users*0.9),max_index=n_users)\n",
    "\n",
    "steps_per_epoch = int(n_users*0.6)//batch_size\n",
    "val_steps = int(n_users*0.3)//batch_size\n",
    "test_steps = int (n_users*0.10)// batch_size\n",
    "\n",
    "print(steps_per_epoch)\n",
    "print(val_steps)"
   ]
  },
  {
   "cell_type": "code",
   "execution_count": null,
   "metadata": {},
   "outputs": [],
   "source": [
    "history = model.fit(train_gen,\n",
    "                    steps_per_epoch=500,\n",
    "                    epochs=10,\n",
    "                    validation_data=val_gen,\n",
    "                    validation_steps=500)"
   ]
  },
  {
   "cell_type": "code",
   "execution_count": null,
   "metadata": {},
   "outputs": [],
   "source": [
    "import matplotlib.pyplot as plt\n",
    "acc = history.history['acc']\n",
    "val_acc = history.history['val_acc']\n",
    "loss = history.history['loss']\n",
    "val_loss = history.history['val_loss']\n",
    "epochs = range(1, len(acc) + 1)\n",
    "plt.plot(epochs, acc, 'bo', label='Training acc')\n",
    "plt.plot(epochs, val_acc, 'b', label='Validation acc')\n",
    "plt.title('Training and validation accuracy')\n",
    "plt.legend()\n",
    "plt.figure()\n",
    "plt.plot(epochs, loss, 'bo', label='Training loss')\n",
    "plt.plot(epochs, val_loss, 'b', label='Validation loss')\n",
    "plt.title('Training and validation loss')\n",
    "plt.legend()\n",
    "plt.show()"
   ]
  }
 ],
 "metadata": {
  "kernelspec": {
   "display_name": "Python 3",
   "language": "python",
   "name": "python3"
  },
  "language_info": {
   "codemirror_mode": {
    "name": "ipython",
    "version": 3
   },
   "file_extension": ".py",
   "mimetype": "text/x-python",
   "name": "python",
   "nbconvert_exporter": "python",
   "pygments_lexer": "ipython3",
   "version": "3.11.3"
  }
 },
 "nbformat": 4,
 "nbformat_minor": 2
}
